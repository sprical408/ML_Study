{
 "cells": [
  {
   "cell_type": "code",
   "execution_count": 31,
   "metadata": {},
   "outputs": [],
   "source": [
    "import numpy as np\n",
    "import csv\n",
    "\n",
    "np.random.seed(1000)"
   ]
  },
  {
   "cell_type": "code",
   "execution_count": 32,
   "metadata": {},
   "outputs": [],
   "source": [
    "# 하이퍼 파라미터 정의 (학습률, 정규분초에 대한 평균 및 표준 편차)\n",
    "RND_MEAN = 0\n",
    "RND_STD = 0.003\n",
    "\n",
    "LEARNING_RATE = 0.001"
   ]
  },
  {
   "cell_type": "code",
   "execution_count": 33,
   "metadata": {},
   "outputs": [],
   "source": [
    "# 메인 함수 정의 : 신경망 모델 생성 및 전체 과정 일괄 처리\n",
    "# report : 주기\n",
    "def main_exec(epoch_count = 10, mb_size = 10, report = 1, train_rate = 0.8):\n",
    "    load_dataset()\n",
    "    init_model()\n",
    "    train_and_test(epoch_count, mb_size, report, train_rate)"
   ]
  },
  {
   "cell_type": "code",
   "execution_count": 34,
   "metadata": {},
   "outputs": [],
   "source": [
    "# 데이터 셋 로드 및 비선형 정보에 대해 원-핫 벡터로 표현 과정\n",
    "def load_dataset():\n",
    "    with open('./data/abalone.csv') as csvfile:\n",
    "        csvreader = csv.reader(csvfile)\n",
    "        next(csvreader, None) # next() : 열 정보에 관한 행을 스킵\n",
    "        rows = []\n",
    "        for row in csvreader:\n",
    "            rows.append(row)\n",
    "    \n",
    "    global data, input_cnt, output_cnt # 전역 변수 설정\n",
    "    input_cnt, output_cnt = 10, 1 # 입출력 벡터 크기 설정\n",
    "    data = np.zeros([len(rows), input_cnt + output_cnt]) # 원-핫 벡터 표현을 위한 초기화 과정\n",
    "\n",
    "    # 원-핫 벡터 표현 과정\n",
    "    for n,row in enumerate(rows):\n",
    "        if row[0] == 'I' : data[n,0] = 1\n",
    "        if row[0] == 'F' : data[n,1] = 1\n",
    "        if row[0] == 'M' : data[n,2] = 1\n",
    "        data[n,3:] = row[1:]\n",
    "    "
   ]
  },
  {
   "cell_type": "code",
   "execution_count": 35,
   "metadata": {},
   "outputs": [],
   "source": [
    "# 모델을 위한 파라미터 초기화 과정\n",
    "def init_model():\n",
    "    global weight, bias, input_cnt, output_cnt # 전역 변수 설정\n",
    "    weight = np.random.normal(RND_MEAN, RND_STD, [input_cnt, output_cnt]) # 가중치 : 랜덤하게 초기화 -> 매번 다른 실험결과 + local minimum 피할 가능성 높임\n",
    "    bias = np.zeros([output_cnt]) # 편향 : 모두 0으로 초기화"
   ]
  },
  {
   "cell_type": "code",
   "execution_count": 36,
   "metadata": {},
   "outputs": [
    {
     "output_type": "execute_result",
     "data": {
      "text/plain": [
       "'\\n이후의 과정은 학습 및 평가에 대한 과정이다.\\n편의상 필요한 각 내부 기능에 대해 미리 설명한 후 코드를 진행한다.\\n\\ntrain_and_test() : 학습 및 평가 기능에 대한 총괄 함수\\narrange_data() : 전체 데이터 셋을 무작위로 섞은 후, 1 에포크 당 미니배치 스텝 수 계산\\nget_test_data() : 테스트 데이터 셋을 분리 후, 독립 변수과 종속 변수 분할\\nget_train_data() : 미니배치 사이즈 만큼 처리한 후, 훈련 데이터에 대한 독립 변수와 종속 변수 분할\\nrun_train() : 훈련 -> 순전파, 역전파를 수행, loss acc 반환\\nrun_test() : 최종 모델에 대한 정확도 출력\\n\\n'"
      ]
     },
     "metadata": {},
     "execution_count": 36
    }
   ],
   "source": [
    "'''\n",
    "이후의 과정은 학습 및 평가에 대한 과정이다.\n",
    "편의상 필요한 각 내부 기능에 대해 미리 설명한 후 코드를 진행한다.\n",
    "\n",
    "train_and_test() : 학습 및 평가 기능에 대한 총괄 함수\n",
    "arrange_data() : 전체 데이터 셋을 무작위로 섞은 후, 1 에포크 당 미니배치 스텝 수 계산\n",
    "get_test_data() : 테스트 데이터 셋을 분리 후, 독립 변수과 종속 변수 분할\n",
    "get_train_data() : 미니배치 사이즈 만큼 처리한 후, 훈련 데이터에 대한 독립 변수와 종속 변수 분할\n",
    "run_train() : 훈련 -> 순전파, 역전파를 수행, loss acc 반환\n",
    "run_test() : 최종 모델에 대한 정확도 출력\n",
    "\n",
    "'''"
   ]
  },
  {
   "cell_type": "code",
   "execution_count": 37,
   "metadata": {},
   "outputs": [],
   "source": [
    "# 학습 및 평가\n",
    "def train_and_test(epoch_count, mb_size, report, train_rate):\n",
    "    step_count = arrange_data(mb_size, train_rate)\n",
    "    test_x, test_y = get_test_data()\n",
    "\n",
    "    for epoch in range(epoch_count):\n",
    "        losses, accs = [], []\n",
    "        for n in range(step_count):\n",
    "            train_x, train_y= get_train_data(mb_size, n)\n",
    "            loss, acc = run_train(train_x,train_y)\n",
    "            losses.append(loss)\n",
    "            accs.append(acc)\n",
    "        \n",
    "        if report > 0 and (epoch + 1) % report == 0:\n",
    "            acc = run_test(test_x, test_y)\n",
    "            print(\"Epoch {} : Train - loss = {:5.3f}, accuracy = {:5.3f} / Test = {:5.3f}\".\\\n",
    "                format(epoch+1, np.mean(losses), np.mean(accs), acc))\n",
    "    \n",
    "    final_acc = run_test(test_x,test_y)\n",
    "    print('\\n Result : final accuracy = {:5.3f}'.format(final_acc))"
   ]
  },
  {
   "cell_type": "code",
   "execution_count": 38,
   "metadata": {},
   "outputs": [],
   "source": [
    "# 이후의 과정은 train_and_test()의 하위 기능에 대한 함수를 정의한다."
   ]
  },
  {
   "cell_type": "code",
   "execution_count": 39,
   "metadata": {},
   "outputs": [],
   "source": [
    "def arrange_data(mb_size, train_rate):\n",
    "    global data, shuffle_map, test_begin_index\n",
    "    shuffle_map = np.arange(data.shape[0])\n",
    "    np.random.shuffle(shuffle_map)\n",
    "\n",
    "    step_count = int(data.shape[0] * train_rate) // mb_size\n",
    "\n",
    "    test_begin_index = step_count * mb_size # 일반적으로 80% : 학습, 20% : 테스트이기에 이 사이의 경계선 idx\n",
    "    return step_count"
   ]
  },
  {
   "cell_type": "code",
   "execution_count": 40,
   "metadata": {},
   "outputs": [],
   "source": [
    "def get_test_data():\n",
    "    global data,shuffle_map, test_begin_index, output_cnt\n",
    "    test_data = data[shuffle_map[test_begin_index:]]\n",
    "\n",
    "    return test_data[:,:-output_cnt], test_data[:,-output_cnt:]"
   ]
  },
  {
   "cell_type": "code",
   "execution_count": 41,
   "metadata": {},
   "outputs": [],
   "source": [
    "def get_train_data(mb_size, nth):\n",
    "    global data, shuffle_map, test_begin_index, output_cnt\n",
    "    if nth == 0:\n",
    "        np.random.shuffle(shuffle_map[:test_begin_index]) # 에포크마다 셔플\n",
    "\n",
    "    train_data = data[shuffle_map[mb_size * nth : mb_size*(nth+1)]]\n",
    "    \n",
    "    return train_data[:,:-output_cnt], train_data[:,-output_cnt:]\n"
   ]
  },
  {
   "cell_type": "code",
   "execution_count": 42,
   "metadata": {},
   "outputs": [],
   "source": [
    "# 학습 수행 과정 : 순전파를 통해 loss값 계산 -> 정확도 계산 -> 기울기 계산\n",
    "def run_train(x,y):\n",
    "    output, aux_nn = forward_neuralnet(x)\n",
    "    loss, aux_pp = forward_postproc(output, y)\n",
    "    accuracy = eval_accuracy(output, y)\n",
    "\n",
    "    G_loss = 1.0\n",
    "    G_output = backprop_postproc(G_loss,aux_pp)\n",
    "    backprop_neuralnet(G_output,aux_nn)\n",
    "\n",
    "    return loss, accuracy"
   ]
  },
  {
   "cell_type": "code",
   "execution_count": 43,
   "metadata": {},
   "outputs": [],
   "source": [
    "#\n",
    "def run_test(x, y):\n",
    "    output, _ = forward_neuralnet(x)\n",
    "    accuracy = eval_accuracy(output, y)\n",
    "    return accuracy"
   ]
  },
  {
   "cell_type": "code",
   "execution_count": 44,
   "metadata": {},
   "outputs": [],
   "source": [
    "# 손실함수 중 mse를 구하는 과정\n",
    "def forward_postproc(output, y):\n",
    "    diff = output - y\n",
    "\n",
    "    square = np.square(diff)\n",
    "\n",
    "    loss = np.mean(square)\n",
    "\n",
    "    return loss, diff"
   ]
  },
  {
   "cell_type": "code",
   "execution_count": 53,
   "metadata": {},
   "outputs": [],
   "source": [
    "#\n",
    "def backprop_postproc(G_loss, diff):\n",
    "    shape = diff.shape\n",
    "    G_loss = 1\n",
    "\n",
    "    g_loss_square = np.ones(shape) / np.prod(shape)\n",
    "    g_square_diff = 2 * diff\n",
    "    g_diff_output = 1\n",
    "\n",
    "    G_square = g_loss_square * G_loss\n",
    "    G_diff = g_square_diff * G_square\n",
    "    G_output = g_diff_output * G_diff\n",
    "\n",
    "    return G_output\n"
   ]
  },
  {
   "cell_type": "code",
   "execution_count": 46,
   "metadata": {},
   "outputs": [],
   "source": [
    "#\n",
    "def forward_neuralnet(x):\n",
    "    global weight, bias\n",
    "    output = np.matmul(x, weight) + bias\n",
    "    return output, x\n"
   ]
  },
  {
   "cell_type": "code",
   "execution_count": 55,
   "metadata": {},
   "outputs": [],
   "source": [
    "#\n",
    "def backprop_neuralnet(G_output, x):\n",
    "    global weight, bias\n",
    "    g_output_w = x.transpose()\n",
    "\n",
    "    G_w = np.matmul(g_output_w, G_output)\n",
    "    G_b = np.sum(G_output, axis=0)\n",
    "\n",
    "    weight -= LEARNING_RATE * G_w\n",
    "    bias -= LEARNING_RATE * G_b\n",
    "\n"
   ]
  },
  {
   "cell_type": "code",
   "execution_count": 48,
   "metadata": {},
   "outputs": [],
   "source": [
    "#\n",
    "def eval_accuracy(output, y):\n",
    "    mdiff = np.mean(np.abs((output - y) / y))\n",
    "\n",
    "    return 1 - mdiff\n"
   ]
  },
  {
   "cell_type": "code",
   "execution_count": 56,
   "metadata": {},
   "outputs": [
    {
     "output_type": "stream",
     "name": "stdout",
     "text": [
      "Epoch 1 : Train - loss = 33.605, accuracy = 0.561 / Test = 0.810\n",
      "Epoch 2 : Train - loss = 8.023, accuracy = 0.819 / Test = 0.815\n",
      "Epoch 3 : Train - loss = 7.332, accuracy = 0.813 / Test = 0.809\n",
      "Epoch 4 : Train - loss = 7.225, accuracy = 0.810 / Test = 0.808\n",
      "Epoch 5 : Train - loss = 7.144, accuracy = 0.809 / Test = 0.810\n",
      "Epoch 6 : Train - loss = 7.076, accuracy = 0.811 / Test = 0.807\n",
      "Epoch 7 : Train - loss = 7.020, accuracy = 0.810 / Test = 0.808\n",
      "Epoch 8 : Train - loss = 6.968, accuracy = 0.811 / Test = 0.807\n",
      "Epoch 9 : Train - loss = 6.925, accuracy = 0.810 / Test = 0.809\n",
      "Epoch 10 : Train - loss = 6.885, accuracy = 0.812 / Test = 0.807\n",
      "\n",
      " Result : final accuracy = 0.807\n"
     ]
    }
   ],
   "source": [
    "main_exec()"
   ]
  },
  {
   "cell_type": "code",
   "execution_count": null,
   "metadata": {},
   "outputs": [],
   "source": []
  }
 ],
 "metadata": {
  "kernelspec": {
   "name": "python373jvsc74a57bd0506099fd1553aa4da42d83c60d28745b1ff66d9527e63b0b6cab9a89f7c2a048",
   "display_name": "Python 3.7.3 64-bit ('base': conda)"
  },
  "language_info": {
   "codemirror_mode": {
    "name": "ipython",
    "version": 3
   },
   "file_extension": ".py",
   "mimetype": "text/x-python",
   "name": "python",
   "nbconvert_exporter": "python",
   "pygments_lexer": "ipython3",
   "version": "3.7.3"
  }
 },
 "nbformat": 4,
 "nbformat_minor": 2
}