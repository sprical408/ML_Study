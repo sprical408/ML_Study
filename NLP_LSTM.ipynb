{
  "nbformat": 4,
  "nbformat_minor": 0,
  "metadata": {
    "colab": {
      "name": "Untitled12.ipynb",
      "provenance": []
    },
    "kernelspec": {
      "name": "python3",
      "display_name": "Python 3"
    },
    "language_info": {
      "name": "python"
    },
    "accelerator": "GPU"
  },
  "cells": [
    {
      "cell_type": "code",
      "metadata": {
        "id": "xnzhW-nW02u0"
      },
      "source": [
        "import tensorflow as tf\n",
        "import numpy as np"
      ],
      "execution_count": 3,
      "outputs": []
    },
    {
      "cell_type": "code",
      "metadata": {
        "id": "gtnkmTLvKzlr"
      },
      "source": [
        "X = []\n",
        "Y = []\n",
        "\n",
        "for i in range(3000):\n",
        "  lst = np.random.rand(100)\n",
        "\n",
        "  idx = np.random.choice(100,2,replace=False)\n",
        "\n",
        "  zeros = np.zeros(100)\n",
        "\n",
        "  zeros[idx] = 1\n",
        "\n",
        "  X.append(np.array(list(zip(zeros,lst))))\n",
        "\n",
        "  Y.append(np.prod(lst[idx]))\n",
        "\n"
      ],
      "execution_count": 5,
      "outputs": []
    },
    {
      "cell_type": "code",
      "metadata": {
        "colab": {
          "base_uri": "https://localhost:8080/"
        },
        "id": "sFa4dWDnKzsh",
        "outputId": "a237356a-5de4-4abe-ae2d-fc9bb925dfeb"
      },
      "source": [
        "model = tf.keras.Sequential([\n",
        "                             tf.keras.layers.SimpleRNN(units=30, return_sequences=True, input_shape = [100,2]),\n",
        "                             tf.keras.layers.SimpleRNN(units=30),\n",
        "                             tf.keras.layers.Dense(1)\n",
        "])\n",
        "\n",
        "model.compile(optimizer='adam', loss = 'mse')\n",
        "model.summary()"
      ],
      "execution_count": 6,
      "outputs": [
        {
          "output_type": "stream",
          "text": [
            "Model: \"sequential\"\n",
            "_________________________________________________________________\n",
            "Layer (type)                 Output Shape              Param #   \n",
            "=================================================================\n",
            "simple_rnn (SimpleRNN)       (None, 100, 30)           990       \n",
            "_________________________________________________________________\n",
            "simple_rnn_1 (SimpleRNN)     (None, 30)                1830      \n",
            "_________________________________________________________________\n",
            "dense (Dense)                (None, 1)                 31        \n",
            "=================================================================\n",
            "Total params: 2,851\n",
            "Trainable params: 2,851\n",
            "Non-trainable params: 0\n",
            "_________________________________________________________________\n"
          ],
          "name": "stdout"
        }
      ]
    },
    {
      "cell_type": "code",
      "metadata": {
        "id": "G9_tEcKRKzxq"
      },
      "source": [
        "X = np.array(X)\n",
        "Y = np.array(Y)"
      ],
      "execution_count": 7,
      "outputs": []
    },
    {
      "cell_type": "code",
      "metadata": {
        "id": "fBhiIEBdKz2r"
      },
      "source": [
        "history = model.fit(X[:2560], Y[:2560], epochs = 50, validation_split=0.2)"
      ],
      "execution_count": null,
      "outputs": []
    },
    {
      "cell_type": "code",
      "metadata": {
        "colab": {
          "base_uri": "https://localhost:8080/",
          "height": 279
        },
        "id": "bPAnEP85Kz51",
        "outputId": "ba8a1303-7e77-4882-f73e-cf9362265825"
      },
      "source": [
        "import matplotlib.pyplot as plt\n",
        "\n",
        "plt.plot(history.history['loss'], 'b-', label = 'loss')\n",
        "plt.plot(history.history['val_loss'], 'r--', label = 'val_loss')\n",
        "plt.xlabel('Epoch')\n",
        "plt.legend()\n",
        "plt.show()"
      ],
      "execution_count": 11,
      "outputs": [
        {
          "output_type": "display_data",
          "data": {
            "image/png": "[encoded data removed]",
            "text/plain": [
              "<Figure size 432x288 with 1 Axes>"
            ]
          },
          "metadata": {
            "tags": [],
            "needs_background": "light"
          }
        }
      ]
    },
    {
      "cell_type": "code",
      "metadata": {
        "colab": {
          "base_uri": "https://localhost:8080/"
        },
        "id": "RrXln86jKz8Z",
        "outputId": "bf2768a3-c6f1-4e10-d058-0bd9f00f8489"
      },
      "source": [
        "model.evaluate(X[2560:], Y[2560:])\n",
        "prediction = model.predict(X[2560:2560 + 5])\n",
        "\n",
        "for i in range(5):\n",
        "  print(Y[2560 + i], '\\t', prediction[i][0], '\\tdiff :',abs(prediction[i][0] - Y[2560+i]) )"
      ],
      "execution_count": 9,
      "outputs": [
        {
          "output_type": "stream",
          "text": [
            "14/14 [==============================] - 0s 13ms/step - loss: 0.0606\n",
            "0.9162291621143345 \t 0.2303606 \tdiff : 0.6858685647422794\n",
            "0.020701641922882628 \t 0.09751957 \tdiff : 0.07681792717606681\n",
            "0.08133790052708974 \t 0.22587305 \tdiff : 0.14453515254679333\n",
            "0.3764380183852218 \t 0.40291166 \tdiff : 0.026473644670198138\n",
            "0.35496753111243456 \t 0.21482429 \tdiff : 0.14014324202895373\n"
          ],
          "name": "stdout"
        }
      ]
    },
    {
      "cell_type": "code",
      "metadata": {
        "colab": {
          "base_uri": "https://localhost:8080/"
        },
        "id": "BEKMC2C2Kz--",
        "outputId": "c46470ee-2563-40f0-e491-a6bf335e1ac7"
      },
      "source": [
        "prediction = model.predict(X[2560:])\n",
        "fail = 0\n",
        "for i in range(len(prediction)):\n",
        "  if abs(prediction[i][0] - Y[2560+i]) > 0.04:\n",
        "    fail += 1\n",
        "\n",
        "print('corrections : ', (440-fail)/440 * 100, '%')"
      ],
      "execution_count": 10,
      "outputs": [
        {
          "output_type": "stream",
          "text": [
            "corrections :  10.227272727272728 %\n"
          ],
          "name": "stdout"
        }
      ]
    },
    {
      "cell_type": "code",
      "metadata": {
        "colab": {
          "base_uri": "https://localhost:8080/"
        },
        "id": "9BxqVThcK0Jc",
        "outputId": "c0303855-1f89-48ef-d5b3-3e589804c6a0"
      },
      "source": [
        "model = tf.keras.Sequential([\n",
        "                             tf.keras.layers.LSTM(units=30, return_sequences=True, input_shape = [100,2]),\n",
        "                             tf.keras.layers.LSTM(units=30),\n",
        "                             tf.keras.layers.Dense(1)\n",
        "])\n",
        "\n",
        "model.compile(optimizer='adam', loss = 'mse')\n",
        "model.summary()"
      ],
      "execution_count": 12,
      "outputs": [
        {
          "output_type": "stream",
          "text": [
            "Model: \"sequential_1\"\n",
            "_________________________________________________________________\n",
            "Layer (type)                 Output Shape              Param #   \n",
            "=================================================================\n",
            "lstm (LSTM)                  (None, 100, 30)           3960      \n",
            "_________________________________________________________________\n",
            "lstm_1 (LSTM)                (None, 30)                7320      \n",
            "_________________________________________________________________\n",
            "dense_1 (Dense)              (None, 1)                 31        \n",
            "=================================================================\n",
            "Total params: 11,311\n",
            "Trainable params: 11,311\n",
            "Non-trainable params: 0\n",
            "_________________________________________________________________\n"
          ],
          "name": "stdout"
        }
      ]
    },
    {
      "cell_type": "code",
      "metadata": {
        "id": "PcAncb5ZK0M0"
      },
      "source": [
        "history = model.fit(X[:2560], Y[:2560], epochs = 50, validation_split=0.2)"
      ],
      "execution_count": null,
      "outputs": []
    },
    {
      "cell_type": "code",
      "metadata": {
        "colab": {
          "base_uri": "https://localhost:8080/",
          "height": 279
        },
        "id": "8Zh1WTTLOXfz",
        "outputId": "5ae7c4d2-8dd8-46c4-8df0-e5345e082020"
      },
      "source": [
        "import matplotlib.pyplot as plt\n",
        "\n",
        "plt.plot(history.history['loss'], 'b-', label = 'loss')\n",
        "plt.plot(history.history['val_loss'], 'r--', label = 'val_loss')\n",
        "plt.xlabel('Epoch')\n",
        "plt.legend()\n",
        "plt.show()"
      ],
      "execution_count": 14,
      "outputs": [
        {
          "output_type": "display_data",
          "data": {
            "image/png": "[encoded data removed]",
            "text/plain": [
              "<Figure size 432x288 with 1 Axes>"
            ]
          },
          "metadata": {
            "tags": [],
            "needs_background": "light"
          }
        }
      ]
    },
    {
      "cell_type": "code",
      "metadata": {
        "colab": {
          "base_uri": "https://localhost:8080/"
        },
        "id": "hTqk4y_YOXcz",
        "outputId": "0b7e0ad4-7d3a-47de-fd16-eccd11c60578"
      },
      "source": [
        "model.evaluate(X[2560:], Y[2560:])\n",
        "prediction = model.predict(X[2560:2560 + 5])\n",
        "\n",
        "for i in range(5):\n",
        "  print(Y[2560 + i], '\\t', prediction[i][0], '\\tdiff :',abs(prediction[i][0] - Y[2560+i]) )"
      ],
      "execution_count": 15,
      "outputs": [
        {
          "output_type": "stream",
          "text": [
            "14/14 [==============================] - 1s 7ms/step - loss: 0.0053\n",
            "0.9162291621143345 \t 0.6926713 \tdiff : 0.22355786313362158\n",
            "0.020701641922882628 \t 0.0904067 \tdiff : 0.06970505904585975\n",
            "0.08133790052708974 \t 0.078787565 \tdiff : 0.0025503352957664954\n",
            "0.3764380183852218 \t 0.29011416 \tdiff : 0.08632385403280479\n",
            "0.35496753111243456 \t 0.33080342 \tdiff : 0.024164106992485224\n"
          ],
          "name": "stdout"
        }
      ]
    },
    {
      "cell_type": "code",
      "metadata": {
        "colab": {
          "base_uri": "https://localhost:8080/"
        },
        "id": "mesM0w-qOXZV",
        "outputId": "77e07ab5-dbfa-4975-98c2-b037cc5fb9b3"
      },
      "source": [
        "prediction = model.predict(X[2560:])\n",
        "fail = 0\n",
        "for i in range(len(prediction)):\n",
        "  if abs(prediction[i][0] - Y[2560+i]) > 0.04:\n",
        "    fail += 1\n",
        "\n",
        "print('corrections : ', (440-fail)/440 * 100, '%')"
      ],
      "execution_count": 16,
      "outputs": [
        {
          "output_type": "stream",
          "text": [
            "corrections :  50.227272727272734 %\n"
          ],
          "name": "stdout"
        }
      ]
    },
    {
      "cell_type": "code",
      "metadata": {
        "colab": {
          "base_uri": "https://localhost:8080/"
        },
        "id": "Ua425x9YOXVm",
        "outputId": "d1fd050f-c820-4641-9632-c821c49a06c3"
      },
      "source": [
        "model = tf.keras.Sequential([\n",
        "                             tf.keras.layers.GRU(units=30, return_sequences=True, input_shape = [100,2]),\n",
        "                             tf.keras.layers.GRU(units=30),\n",
        "                             tf.keras.layers.Dense(1)\n",
        "])\n",
        "\n",
        "model.compile(optimizer='adam', loss = 'mse')\n",
        "model.summary()"
      ],
      "execution_count": 17,
      "outputs": [
        {
          "output_type": "stream",
          "text": [
            "Model: \"sequential_2\"\n",
            "_________________________________________________________________\n",
            "Layer (type)                 Output Shape              Param #   \n",
            "=================================================================\n",
            "gru (GRU)                    (None, 100, 30)           3060      \n",
            "_________________________________________________________________\n",
            "gru_1 (GRU)                  (None, 30)                5580      \n",
            "_________________________________________________________________\n",
            "dense_2 (Dense)              (None, 1)                 31        \n",
            "=================================================================\n",
            "Total params: 8,671\n",
            "Trainable params: 8,671\n",
            "Non-trainable params: 0\n",
            "_________________________________________________________________\n"
          ],
          "name": "stdout"
        }
      ]
    },
    {
      "cell_type": "code",
      "metadata": {
        "id": "CvmTOeL7OXJU"
      },
      "source": [
        "history = model.fit(X[:2560], Y[:2560], epochs = 50, validation_split=0.2)"
      ],
      "execution_count": null,
      "outputs": []
    },
    {
      "cell_type": "code",
      "metadata": {
        "colab": {
          "base_uri": "https://localhost:8080/",
          "height": 279
        },
        "id": "FbcJTSmbOzuz",
        "outputId": "343f417a-8ff8-491b-dd73-b67031b51d36"
      },
      "source": [
        "import matplotlib.pyplot as plt\n",
        "\n",
        "plt.plot(history.history['loss'], 'b-', label = 'loss')\n",
        "plt.plot(history.history['val_loss'], 'r--', label = 'val_loss')\n",
        "plt.xlabel('Epoch')\n",
        "plt.legend()\n",
        "plt.show()"
      ],
      "execution_count": 19,
      "outputs": [
        {
          "output_type": "display_data",
          "data": {
            "image/png": "[encoded data removed]",
            "text/plain": [
              "<Figure size 432x288 with 1 Axes>"
            ]
          },
          "metadata": {
            "tags": [],
            "needs_background": "light"
          }
        }
      ]
    },
    {
      "cell_type": "code",
      "metadata": {
        "colab": {
          "base_uri": "https://localhost:8080/"
        },
        "id": "Xmj6g3-hOzoa",
        "outputId": "eed2cea7-47fa-47a5-b351-8cdb8bb4049d"
      },
      "source": [
        "model.evaluate(X[2560:], Y[2560:])\n",
        "prediction = model.predict(X[2560:2560 + 5])\n",
        "\n",
        "for i in range(5):\n",
        "  print(Y[2560 + i], '\\t', prediction[i][0], '\\tdiff :',abs(prediction[i][0] - Y[2560+i]) )"
      ],
      "execution_count": 20,
      "outputs": [
        {
          "output_type": "stream",
          "text": [
            "14/14 [==============================] - 1s 7ms/step - loss: 9.5774e-04\n",
            "0.9162291621143345 \t 0.79308736 \tdiff : 0.12314179887123144\n",
            "0.020701641922882628 \t 0.05458862 \tdiff : 0.0338869776967253\n",
            "0.08133790052708974 \t 0.11270316 \tdiff : 0.03136525892439494\n",
            "0.3764380183852218 \t 0.34702206 \tdiff : 0.02941596180563194\n",
            "0.35496753111243456 \t 0.31559712 \tdiff : 0.03937041416526049\n"
          ],
          "name": "stdout"
        }
      ]
    },
    {
      "cell_type": "code",
      "metadata": {
        "colab": {
          "base_uri": "https://localhost:8080/"
        },
        "id": "I4JB-EJeOzg-",
        "outputId": "8d3bc652-8ab0-4cf1-9ef8-2e054606c850"
      },
      "source": [
        "prediction = model.predict(X[2560:])\n",
        "fail = 0\n",
        "for i in range(len(prediction)):\n",
        "  if abs(prediction[i][0] - Y[2560+i]) > 0.04:\n",
        "    fail += 1\n",
        "\n",
        "print('corrections : ', (440-fail)/440 * 100, '%')"
      ],
      "execution_count": 21,
      "outputs": [
        {
          "output_type": "stream",
          "text": [
            "corrections :  82.95454545454545 %\n"
          ],
          "name": "stdout"
        }
      ]
    },
    {
      "cell_type": "code",
      "metadata": {
        "id": "MiB8ZUTNRbxK"
      },
      "source": [
        "from keras.models import Sequential\n",
        "from keras.layers import Dense, Activation, Bidirectional, LSTM"
      ],
      "execution_count": 22,
      "outputs": []
    },
    {
      "cell_type": "code",
      "metadata": {
        "colab": {
          "base_uri": "https://localhost:8080/"
        },
        "id": "jiXmaZTvRbs7",
        "outputId": "d433ba34-23dc-4912-e595-a65146b2c0c8"
      },
      "source": [
        "model = Sequential()\n",
        "model.add(Bidirectional(LSTM(30,return_sequences=True),input_shape = [100,2]))\n",
        "model.add(Bidirectional(LSTM(30)))\n",
        "model.add(Dense(1))\n",
        "model.compile(optimizer='adam', loss = 'mse')\n",
        "model.summary()"
      ],
      "execution_count": 24,
      "outputs": [
        {
          "output_type": "stream",
          "text": [
            "Model: \"sequential_4\"\n",
            "_________________________________________________________________\n",
            "Layer (type)                 Output Shape              Param #   \n",
            "=================================================================\n",
            "bidirectional (Bidirectional (None, 100, 60)           7920      \n",
            "_________________________________________________________________\n",
            "bidirectional_1 (Bidirection (None, 60)                21840     \n",
            "_________________________________________________________________\n",
            "dense_3 (Dense)              (None, 1)                 61        \n",
            "=================================================================\n",
            "Total params: 29,821\n",
            "Trainable params: 29,821\n",
            "Non-trainable params: 0\n",
            "_________________________________________________________________\n"
          ],
          "name": "stdout"
        }
      ]
    },
    {
      "cell_type": "code",
      "metadata": {
        "id": "2QFl_PY9RbkE"
      },
      "source": [
        "history = model.fit(X[:2560], Y[:2560], epochs = 50, verbose = 1, validation_split=0.2)"
      ],
      "execution_count": null,
      "outputs": []
    },
    {
      "cell_type": "code",
      "metadata": {
        "colab": {
          "base_uri": "https://localhost:8080/",
          "height": 279
        },
        "id": "yU-gCKW_VUlO",
        "outputId": "f15a53a7-e6d0-4125-f6da-54af5c4474df"
      },
      "source": [
        "import matplotlib.pyplot as plt\n",
        "\n",
        "plt.plot(history.history['loss'], 'b-', label = 'loss')\n",
        "plt.plot(history.history['val_loss'], 'r--', label = 'val_loss')\n",
        "plt.xlabel('Epoch')\n",
        "plt.legend()\n",
        "plt.show()"
      ],
      "execution_count": 26,
      "outputs": [
        {
          "output_type": "display_data",
          "data": {
            "image/png": "[encoded data removed]",
            "text/plain": [
              "<Figure size 432x288 with 1 Axes>"
            ]
          },
          "metadata": {
            "tags": [],
            "needs_background": "light"
          }
        }
      ]
    },
    {
      "cell_type": "code",
      "metadata": {
        "colab": {
          "base_uri": "https://localhost:8080/"
        },
        "id": "smBEksAzVUX2",
        "outputId": "b658720a-c174-4b4b-dad8-db99f8606a6a"
      },
      "source": [
        "model.evaluate(X[2560:], Y[2560:])\n",
        "prediction = model.predict(X[2560:2560 + 5])\n",
        "\n",
        "for i in range(5):\n",
        "  print(Y[2560 + i], '\\t', prediction[i][0], '\\tdiff :',abs(prediction[i][0] - Y[2560+i]) )"
      ],
      "execution_count": 27,
      "outputs": [
        {
          "output_type": "stream",
          "text": [
            "14/14 [==============================] - 2s 13ms/step - loss: 0.0010\n",
            "0.9162291621143345 \t 0.8373415 \tdiff : 0.07888767470665015\n",
            "0.020701641922882628 \t 0.09915978 \tdiff : 0.0784581352415766\n",
            "0.08133790052708974 \t 0.108358264 \tdiff : 0.02702036344233165\n",
            "0.3764380183852218 \t 0.3656472 \tdiff : 0.010790821615507429\n",
            "0.35496753111243456 \t 0.327464 \tdiff : 0.02750351682067126\n"
          ],
          "name": "stdout"
        }
      ]
    },
    {
      "cell_type": "code",
      "metadata": {
        "colab": {
          "base_uri": "https://localhost:8080/"
        },
        "id": "_a0_JTp9VUH0",
        "outputId": "e7c3c45a-1890-42ca-e81c-6ff7f7fbb10c"
      },
      "source": [
        "prediction = model.predict(X[2560:])\n",
        "fail = 0\n",
        "for i in range(len(prediction)):\n",
        "  if abs(prediction[i][0] - Y[2560+i]) > 0.04:\n",
        "    fail += 1\n",
        "\n",
        "print('corrections : ', (440-fail)/440 * 100, '%')"
      ],
      "execution_count": 28,
      "outputs": [
        {
          "output_type": "stream",
          "text": [
            "corrections :  84.31818181818181 %\n"
          ],
          "name": "stdout"
        }
      ]
    },
    {
      "cell_type": "code",
      "metadata": {
        "id": "PKs9w2_cVT_t"
      },
      "source": [
        ""
      ],
      "execution_count": null,
      "outputs": []
    }
  ]
}