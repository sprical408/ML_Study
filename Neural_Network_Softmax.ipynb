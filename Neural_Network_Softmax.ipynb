{
 "metadata": {
  "language_info": {
   "codemirror_mode": {
    "name": "ipython",
    "version": 3
   },
   "file_extension": ".py",
   "mimetype": "text/x-python",
   "name": "python",
   "nbconvert_exporter": "python",
   "pygments_lexer": "ipython3",
   "version": "3.7.3"
  },
  "orig_nbformat": 2,
  "kernelspec": {
   "name": "python373jvsc74a57bd0506099fd1553aa4da42d83c60d28745b1ff66d9527e63b0b6cab9a89f7c2a048",
   "display_name": "Python 3.7.3 64-bit ('base': conda)"
  }
 },
 "nbformat": 4,
 "nbformat_minor": 2,
 "cells": [
  {
   "cell_type": "code",
   "execution_count": 1,
   "metadata": {},
   "outputs": [],
   "source": [
    "import numpy as np\n",
    "import csv"
   ]
  },
  {
   "cell_type": "code",
   "execution_count": 5,
   "metadata": {},
   "outputs": [],
   "source": [
    "%run ./Neural_Network_Binary_Classification.ipynb"
   ]
  },
  {
   "cell_type": "code",
   "execution_count": 6,
   "metadata": {},
   "outputs": [],
   "source": [
    "np.random.seed(1024)\n",
    "\n",
    "RND_MEAN = 0\n",
    "RND_STD = 0.003\n",
    "\n",
    "Learning_rate = 0.003"
   ]
  },
  {
   "cell_type": "code",
   "execution_count": 7,
   "metadata": {},
   "outputs": [],
   "source": [
    "def multi_class_exec(epoch_count = 10, mb_size = 19, report = 1, train_rate = 0.75):\n",
    "    multi_load_dataset()\n",
    "    init_model()\n",
    "    train_and_test(epoch_count, mb_size, report, train_rate)"
   ]
  },
  {
   "cell_type": "code",
   "execution_count": 8,
   "metadata": {},
   "outputs": [],
   "source": [
    "\n",
    "def multi_load_dataset():\n",
    "    with open('./data/faults.csv') as csvfile:\n",
    "        csvreader = csv.reader(csvfile)\n",
    "        next(csvreader,None)\n",
    "        rows = []\n",
    "        for row in csvreader:\n",
    "            rows.append(row)\n",
    "\n",
    "    global data, input_cnt, output_cnt\n",
    "\n",
    "    input_cnt, output_cnt = 27, 7\n",
    "    data = np.array(rows,dtype = 'float32')"
   ]
  },
  {
   "cell_type": "code",
   "execution_count": 9,
   "metadata": {},
   "outputs": [],
   "source": [
    "\n",
    "def run_train(x,y):\n",
    "\n",
    "    output, aux_nn = forward_neuralnet(x)\n",
    "    loss, aux_pp = forward_postproc(output,y)\n",
    "    accuracy = eval_accuracy(output,y)\n",
    "\n",
    "    return loss, accuracy"
   ]
  },
  {
   "cell_type": "code",
   "execution_count": 10,
   "metadata": {},
   "outputs": [],
   "source": [
    "\n",
    "def forward_postproc(output, y):\n",
    "    entropy = softmax_cross_entropy_with_logits(y, output)\n",
    "    loss = np.mean(entropy)\n",
    "\n",
    "    return loss, [y,output,entropy]"
   ]
  },
  {
   "cell_type": "code",
   "execution_count": 11,
   "metadata": {},
   "outputs": [],
   "source": [
    "\n",
    "def softmax(x):\n",
    "\n",
    "    max_elem = np.max(x, axis=1)\n",
    "\n",
    "    diff = (x.transpose() - max_elem).transpose()\n",
    "\n",
    "    exp = np.exp(diff)\n",
    "\n",
    "    sum_exp = np.sum(exp, axis = 1)\n",
    "\n",
    "    probs =(exp.transpose()/sum_exp).transpose()\n",
    "\n",
    "    return probs"
   ]
  },
  {
   "cell_type": "code",
   "execution_count": 12,
   "metadata": {},
   "outputs": [],
   "source": [
    "\n",
    "def softmax_cross_entropy_with_logits(labels, logits):\n",
    "    probs = softmax(logits)\n",
    "\n",
    "    return -np.sum(labels * np.log(probs + 1.0e-10), axis= 1)"
   ]
  },
  {
   "cell_type": "code",
   "execution_count": null,
   "metadata": {},
   "outputs": [],
   "source": [
    "\n",
    "def run_train(x,y):\n",
    "\n",
    "    output, aux_nn = forward_neuralnet(x)\n",
    "\n",
    "    loss, aux_pp = forward_postproc(output, y)\n",
    "\n",
    "    accuracy = eval_accuracy(output, y)\n",
    "\n",
    "    G_output = backprop_postproc(aux_pp)\n",
    "\n",
    "    backprop_neuralnet(G_output, aux_nn)\n",
    "\n",
    "    return loss, accuracy"
   ]
  },
  {
   "cell_type": "code",
   "execution_count": 13,
   "metadata": {},
   "outputs": [],
   "source": [
    "\n",
    "def backprop_postproc(aux_pp):\n",
    "    y,output,entropy = aux_pp\n",
    "    G_loss = 1.0\n",
    "\n",
    "    g_loss_entropy = 1.0 / np.prod(entropy.shape)\n",
    "    g_entropy_output = softmax_cross_entropy_with_logits_derv(y,output)\n",
    "\n",
    "    G_entropy = g_loss_entropy * G_loss\n",
    "    G_output = g_entropy_output * G_entropy\n",
    "\n",
    "    return G_output"
   ]
  },
  {
   "cell_type": "code",
   "execution_count": 14,
   "metadata": {},
   "outputs": [],
   "source": [
    "\n",
    "def softmax_cross_entropy_with_logits_derv(labels, logits):\n",
    "    return softmax(logits) - labels"
   ]
  },
  {
   "cell_type": "code",
   "execution_count": 15,
   "metadata": {},
   "outputs": [],
   "source": [
    "def backprop_neuralnet(G_output, x):\n",
    "    global weight, bias\n",
    "    g_output_w = x.transpose()\n",
    "\n",
    "    G_w = np.matmul(g_output_w,G_output)\n",
    "    G_b = np.sum(G_output, axis=0)\n",
    "\n",
    "    weight -= Learning_rate * G_w\n",
    "    bias -= Learning_rate * G_b"
   ]
  },
  {
   "cell_type": "code",
   "execution_count": 16,
   "metadata": {},
   "outputs": [],
   "source": [
    "# 학습 및 평가\n",
    "def train_and_test(epoch_count, mb_size, report, train_rate):\n",
    "    step_count = arrange_data(mb_size, train_rate)\n",
    "    test_x, test_y = get_test_data()\n",
    "\n",
    "    for epoch in range(epoch_count):\n",
    "        losses,accs = [],[]\n",
    "\n",
    "        for n in range(step_count):\n",
    "            train_x, train_y= get_train_data(mb_size, n)\n",
    "            loss, acc = run_train(train_x,train_y)\n",
    "            losses.append(loss)\n",
    "            accs.append(acc)\n",
    "        \n",
    "        if report > 0 and (epoch + 1) % report == 0:\n",
    "            acc = run_test(test_x, test_y)\n",
    "            print(\"Epoch {} : Train - loss = {:5.3f}, accuracy = {:5.3f} /  Test = {:5.3f}\".\\\n",
    "                format(epoch+1, np.mean(losses), np.mean(accs),acc))\n",
    "    \n",
    "    final_acc = run_test(test_x,test_y)\n",
    "    print('\\n Result : final accuracy = {:5.3f}'.format(final_acc))"
   ]
  },
  {
   "cell_type": "code",
   "execution_count": 17,
   "metadata": {},
   "outputs": [],
   "source": [
    "def run_test(test_x,test_y):\n",
    "    output, _ = forward_neuralnet(test_x)\n",
    "    accuracy = eval_accuracy(output, test_y)\n",
    "    return accuracy"
   ]
  },
  {
   "cell_type": "code",
   "execution_count": 23,
   "metadata": {},
   "outputs": [],
   "source": [
    "def eval_accuracy(output, y):\n",
    "    estimate = np.argmax(output, axis=1)\n",
    "    answer = np.argmax(y, axis=1)\n",
    "    correct = np.equal(estimate, answer)\n",
    "    \n",
    "    return np.mean(correct)"
   ]
  },
  {
   "cell_type": "code",
   "execution_count": 25,
   "metadata": {},
   "outputs": [
    {
     "output_type": "stream",
     "name": "stdout",
     "text": [
      "Epoch 100 : Train - loss = 22.132, accuracy = 0.038 /  Test = 0.037\n",
      "Epoch 200 : Train - loss = 22.132, accuracy = 0.038 /  Test = 0.037\n",
      "Epoch 300 : Train - loss = 22.132, accuracy = 0.038 /  Test = 0.037\n",
      "Epoch 400 : Train - loss = 22.132, accuracy = 0.038 /  Test = 0.037\n",
      "Epoch 500 : Train - loss = 22.132, accuracy = 0.038 /  Test = 0.037\n",
      "Epoch 600 : Train - loss = 22.132, accuracy = 0.038 /  Test = 0.037\n",
      "Epoch 700 : Train - loss = 22.132, accuracy = 0.038 /  Test = 0.037\n",
      "Epoch 800 : Train - loss = 22.132, accuracy = 0.038 /  Test = 0.037\n",
      "Epoch 900 : Train - loss = 22.132, accuracy = 0.038 /  Test = 0.037\n",
      "Epoch 1000 : Train - loss = 22.132, accuracy = 0.038 /  Test = 0.037\n",
      "\n",
      " Result : final accuracy = 0.037\n"
     ]
    }
   ],
   "source": [
    "multi_class_exec(epoch_count=1000, report=100, mb_size=100,train_rate=0.7)"
   ]
  },
  {
   "cell_type": "code",
   "execution_count": 26,
   "metadata": {},
   "outputs": [
    {
     "output_type": "stream",
     "name": "stdout",
     "text": [
      "Epoch 100 : Train - loss = 21.113, accuracy = 0.083 /  Test = 0.078\n",
      "Epoch 200 : Train - loss = 21.113, accuracy = 0.083 /  Test = 0.078\n",
      "Epoch 300 : Train - loss = 21.113, accuracy = 0.083 /  Test = 0.078\n",
      "Epoch 400 : Train - loss = 21.113, accuracy = 0.083 /  Test = 0.078\n",
      "Epoch 500 : Train - loss = 21.113, accuracy = 0.083 /  Test = 0.078\n",
      "Epoch 600 : Train - loss = 21.113, accuracy = 0.083 /  Test = 0.078\n",
      "Epoch 700 : Train - loss = 21.113, accuracy = 0.083 /  Test = 0.078\n",
      "Epoch 800 : Train - loss = 21.113, accuracy = 0.083 /  Test = 0.078\n",
      "Epoch 900 : Train - loss = 21.113, accuracy = 0.083 /  Test = 0.078\n",
      "Epoch 1000 : Train - loss = 21.113, accuracy = 0.083 /  Test = 0.078\n",
      "\n",
      " Result : final accuracy = 0.078\n"
     ]
    }
   ],
   "source": [
    "Learning_rate = 0.0001\n",
    "multi_class_exec(epoch_count=1000, report=100, mb_size=100,train_rate=0.7)"
   ]
  },
  {
   "cell_type": "code",
   "execution_count": null,
   "metadata": {},
   "outputs": [],
   "source": []
  }
 ]
}