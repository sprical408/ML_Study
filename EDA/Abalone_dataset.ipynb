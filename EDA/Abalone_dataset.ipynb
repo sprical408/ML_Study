{
  "nbformat": 4,
  "nbformat_minor": 0,
  "metadata": {
    "colab": {
      "name": "2주차_과제_박민춘.ipynb",
      "provenance": [],
      "collapsed_sections": []
    },
    "kernelspec": {
      "name": "python3",
      "display_name": "Python 3"
    },
    "language_info": {
      "name": "python"
    }
  },
  "cells": [
    {
      "cell_type": "markdown",
      "metadata": {
        "id": "5KJkW77Ro17S"
      },
      "source": [
        "#  EDA(탐색적 데이터 분석)\n",
        "수집한 자료에 대해 모델링을 하기전 다양한 각도에서 관찰하고\n",
        "이를 이해하는 과정\n",
        "\n",
        "---\n",
        "# Abalone Dataset\n",
        "\n",
        "\n",
        "*   전복의 나이(Age)는 고리(Ring)의 수를 세는 것으로 결정\n",
        "*   다른 요소로 나이를 예측\n",
        "*   결측치는 제거된 상태   결측치는 제거된 상태\n",
        "\n",
        "\n",
        "\n",
        "\n",
        "\n",
        "\n",
        "\n",
        "\n",
        "\n",
        "\n",
        "\n"
      ]
    },
    {
      "cell_type": "code",
      "metadata": {
        "id": "7gncCD2Npvyu"
      },
      "source": [
        "import pandas as pd\n",
        "import numpy as np\n",
        "import matplotlib.pyplot as plt\n",
        "import seaborn as sns"
      ],
      "execution_count": 34,
      "outputs": []
    },
    {
      "cell_type": "code",
      "metadata": {
        "id": "F1kkl2Cj5ERU"
      },
      "source": [
        "# load data set\n",
        "abalone = pd.read_csv('./data/abalone.csv')"
      ],
      "execution_count": 35,
      "outputs": []
    },
    {
      "cell_type": "code",
      "metadata": {
        "id": "R5TLKIbNwXEk"
      },
      "source": [
        "# 현재 데이터 셋에 대한 정보\n",
        "abalone.info()"
      ],
      "execution_count": null,
      "outputs": []
    },
    {
      "cell_type": "code",
      "metadata": {
        "id": "f2D9xSX35Slb"
      },
      "source": [
        "# 데이터 셋을 이루는 행/열 크기\n",
        "abalone.shape"
      ],
      "execution_count": null,
      "outputs": []
    },
    {
      "cell_type": "code",
      "metadata": {
        "id": "Xf2QNyKzwXPd"
      },
      "source": [
        "# 데이터 셋의 열 정보\n",
        "abalone.columns"
      ],
      "execution_count": null,
      "outputs": []
    },
    {
      "cell_type": "code",
      "metadata": {
        "id": "y8Ww1OHF805K"
      },
      "source": [
        "# 상위 5개의 정보\n",
        "abalone.head()"
      ],
      "execution_count": null,
      "outputs": []
    },
    {
      "cell_type": "code",
      "metadata": {
        "id": "K-uRn-8i8kbT"
      },
      "source": [
        "# 전복의 수명(Age)는 고리(Rings)의 갯수에 따라 결정되므로, 이를 수정한다.\n",
        "abalone['Age'] = abalone['Rings']\n",
        "abalone = abalone.drop('Rings',axis=1)\n",
        "abalone.head()"
      ],
      "execution_count": null,
      "outputs": []
    },
    {
      "cell_type": "code",
      "metadata": {
        "id": "oMIHvUQD5war"
      },
      "source": [
        "# 데이터 셋의 요약 정보\n",
        "abalone.describe()"
      ],
      "execution_count": null,
      "outputs": []
    },
    {
      "cell_type": "code",
      "metadata": {
        "id": "yyoVg5QPwiao"
      },
      "source": [
        "# 데이터 셋의 변수간의 상관 관계(Default : 피어슨 상관 계수)\n",
        "abalone.corr()"
      ],
      "execution_count": null,
      "outputs": []
    },
    {
      "cell_type": "code",
      "metadata": {
        "id": "9mFXWWnS5woH"
      },
      "source": [
        "# Seaborn을 활용해 위의 상관 계수를 시각화 Seaborn을 활용해 위의 상관 계수를 시각화\n",
        "sns.heatmap(abalone.corr(),cmap='BrBG', annot=True)"
      ],
      "execution_count": null,
      "outputs": []
    },
    {
      "cell_type": "code",
      "metadata": {
        "id": "O03wnH5TV-CN"
      },
      "source": [
        "# 각 변수간 분포 각 변수간 분포\n",
        "abalone.boxplot(figsize=(20,10))\n",
        "plt.show()\n",
        "abalone.boxplot(figsize=(20,10))\n",
        "plt.show()"
      ],
      "execution_count": null,
      "outputs": []
    },
    {
      "cell_type": "code",
      "metadata": {
        "id": "bjwRq46qV99h"
      },
      "source": [
        "# 각 변수와 수명과의 관계\n",
        "fig, axes = plt.subplots(4,2, figsize=(15,15))\n",
        "axes = axes.flatten()\n",
        "\n",
        "for i in range(1,len(abalone.columns)-1):\n",
        "    sns.scatterplot(x=abalone.iloc[:,i], y=abalone['Age'], ax=axes[i])\n",
        "\n",
        "plt.show()"
      ],
      "execution_count": null,
      "outputs": []
    },
    {
      "cell_type": "code",
      "metadata": {
        "id": "j7FgqGReBmrv"
      },
      "source": [
        "fig = plt.figure()\n",
        "axes1 = fig.add_subplot(1,1,1)"
      ],
      "execution_count": null,
      "outputs": []
    },
    {
      "cell_type": "code",
      "metadata": {
        "id": "MxSG5aIdBmhY"
      },
      "source": [
        "# 전복의 나이 분포\n",
        "axes1.hist(abalone['Age'],bins = 30)\n",
        "axes1.set_title('Total Age')\n",
        "axes1.set_xlabel('Age')\n",
        "axes1.set_ylabel('Count')\n",
        "fig"
      ],
      "execution_count": null,
      "outputs": []
    },
    {
      "cell_type": "code",
      "metadata": {
        "id": "rqb9D-jH5wuc"
      },
      "source": [
        "# 성별에 따른 평균 수명, 최대 수명, 최소 수명\n",
        "groupby_sex = abalone.groupby(['Sex'])[['Age']]\n",
        "print(groupby_sex.mean())\n",
        "print(groupby_sex.max())\n",
        "print(groupby_sex.min())\n",
        "print(groupby_sex.describe())"
      ],
      "execution_count": null,
      "outputs": []
    },
    {
      "cell_type": "code",
      "metadata": {
        "id": "GfEL4ChpISQs"
      },
      "source": [
        "# 성별에 따른 평균 수명에 관한 그래프\n",
        "bar1 = plt.subplot()\n",
        "bar1 = sns.barplot(x = 'Sex', y = 'Age' , data = abalone)\n",
        "bar1.set_title('Abalone\\'s Sex and average Age')\n",
        "bar1.set_xlabel('Sex')\n",
        "bar1.set_ylabel('Age')\n",
        "plt.show()"
      ],
      "execution_count": null,
      "outputs": []
    },
    {
      "cell_type": "code",
      "metadata": {
        "id": "klZcf2WGADUN"
      },
      "source": [
        "# 성별에 따른 평균 수명에 관한 Boxplot\n",
        "sns.boxplot(x = 'Sex', y = 'Age',data = abalone)\n",
        "plt.show()"
      ],
      "execution_count": null,
      "outputs": []
    },
    {
      "cell_type": "code",
      "metadata": {
        "id": "ZVwaNlnzADB7"
      },
      "source": [
        "# 각 성별에 따른 길이, 높이 확인을 위한 그래프\n",
        "# 첫 그래프는 matplotlib을 활용\n",
        "fig, axes2 = plt.subplots(nrows=2,figsize = (10,10))\n",
        "\n",
        "subdata = abalone[\"Sex\"].unique()\n",
        "\n",
        "for s in subdata:\n",
        "  axes2[0].scatter(abalone[\"Length\"].loc[abalone[\"Sex\"]==s],\n",
        "                abalone[\"Height\"].loc[abalone[\"Sex\"]==s],\n",
        "                label = s, alpha=0.3)\n",
        "  \n",
        "axes2[0].legend(subdata,title = 'Sex')\n",
        "axes2[0].set_xlabel('Length')\n",
        "axes2[0].set_ylabel('Height')\n",
        "\n",
        "# 위와 동일한 정보를 Seaborn을 활용해 확인 + 각 점의 크기를 수명에 의해 결정\n",
        "sns.scatterplot(\"Length\",'Height',hue=\"Sex\", size = \"Age\",data = abalone, alpha= 0.3, ax = axes2[1])\n",
        "axes2[1].set_xlabel('Length')\n",
        "axes2[1].set_ylabel('Height')\n"
      ],
      "execution_count": null,
      "outputs": []
    },
    {
      "cell_type": "code",
      "metadata": {
        "id": "BsZKugXn5w0g"
      },
      "source": [
        "# 데이터셋을 이루는 각 변수간의 상관관계를 성별에 의해 시각화 + 사이즈는 수명에 의해 결정\n",
        "pair_grid = sns.PairGrid(abalone, hue='Sex',corner=True)\n",
        "\n",
        "pair_grid.map_diag(sns.histplot)\n",
        "pair_grid.map_offdiag(sns.scatterplot,size = abalone[\"Age\"])\n",
        "\n",
        "# 범례 표기를 위한 조정\n",
        "handles = pair_grid._legend_data.values()\n",
        "labels = pair_grid._legend_data.keys()\n",
        "\n",
        "pair_grid.axes[3][2].legend(handles=handles, labels = labels,\n",
        "                            bbox_to_anchor = (3.45 , 1),\n",
        "                            fontsize = \"x-large\"\n",
        "                            )\n",
        "\n",
        "# 전체 타이틀\n",
        "pair_grid.fig.suptitle(\"About Abalone Dataset\", y = 1.00, weight = \"bold\", size = 20)\n",
        "#배경\n",
        "pair_grid.fig.set_facecolor(\"whitesmoke\")"
      ],
      "execution_count": null,
      "outputs": []
    }
  ]
}